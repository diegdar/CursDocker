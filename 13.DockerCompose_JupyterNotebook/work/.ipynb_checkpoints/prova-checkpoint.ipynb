{
 "cells": [
  {
   "cell_type": "markdown",
   "id": "59d3fceb-4e8f-4248-b406-b2c4e89f7a2c",
   "metadata": {},
   "source": [
    "# Introducció a Python\n"
   ]
  },
  {
   "cell_type": "code",
   "execution_count": 1,
   "id": "63db726f-e13e-4e03-98fb-aa2cfba65fe8",
   "metadata": {},
   "outputs": [
    {
     "name": "stdout",
     "output_type": "stream",
     "text": [
      "Welcome to Python\n"
     ]
    }
   ],
   "source": [
    "print (\"Welcome to Python\")"
   ]
  },
  {
   "cell_type": "code",
   "execution_count": 3,
   "id": "badd0658-4df2-44e7-8140-9fd0e9946d47",
   "metadata": {},
   "outputs": [
    {
     "name": "stdout",
     "output_type": "stream",
     "text": [
      "1\n"
     ]
    }
   ],
   "source": [
    "a = 1\n",
    "print (a)"
   ]
  },
  {
   "cell_type": "markdown",
   "id": "6064e2d0-6151-41d2-b611-8d03824540a4",
   "metadata": {},
   "source": [
    "## Petita història Python\n"
   ]
  }
 ],
 "metadata": {
  "kernelspec": {
   "display_name": "Python 3 (ipykernel)",
   "language": "python",
   "name": "python3"
  },
  "language_info": {
   "codemirror_mode": {
    "name": "ipython",
    "version": 3
   },
   "file_extension": ".py",
   "mimetype": "text/x-python",
   "name": "python",
   "nbconvert_exporter": "python",
   "pygments_lexer": "ipython3",
   "version": "3.11.4"
  }
 },
 "nbformat": 4,
 "nbformat_minor": 5
}
